{
  "nbformat": 4,
  "nbformat_minor": 0,
  "metadata": {
    "colab": {
      "name": "Copy of movie-rev.ipynb",
      "provenance": [],
      "authorship_tag": "ABX9TyOFVgSXetZs6G/WzED7jhIS"
    },
    "kernelspec": {
      "name": "python3",
      "display_name": "Python 3"
    },
    "accelerator": "GPU"
  },
  "cells": [
    {
      "cell_type": "code",
      "metadata": {
        "id": "0ha6vDBPYEzu",
        "colab_type": "code",
        "colab": {}
      },
      "source": [
        "from __future__ import print_function"
      ],
      "execution_count": 0,
      "outputs": []
    },
    {
      "cell_type": "code",
      "metadata": {
        "id": "TJcJCEoDfat2",
        "colab_type": "code",
        "colab": {}
      },
      "source": [
        "max_features = 25000\n",
        "\n",
        "# cut texts after this number of words (among top max_features most common words)\n",
        "maxlen = 128\n",
        "batch_size = 32"
      ],
      "execution_count": 0,
      "outputs": []
    },
    {
      "cell_type": "code",
      "metadata": {
        "id": "yoUssS2OfMLQ",
        "colab_type": "code",
        "colab": {
          "base_uri": "https://localhost:8080/",
          "height": 68
        },
        "outputId": "23f43e76-9b71-4dc8-ac91-a6e9f77e18ac"
      },
      "source": [
        "from keras.datasets import imdb\n",
        "\n",
        "print('Loading data...')\n",
        "(x_train, y_train), (x_test, y_test) = imdb.load_data(num_words=max_features)\n",
        "print(len(x_train), 'train sequences')\n",
        "print(len(x_test), 'test sequences')"
      ],
      "execution_count": 13,
      "outputs": [
        {
          "output_type": "stream",
          "text": [
            "Loading data...\n",
            "25000 train sequences\n",
            "25000 test sequences\n"
          ],
          "name": "stdout"
        }
      ]
    },
    {
      "cell_type": "code",
      "metadata": {
        "id": "CxnJib5Yf34E",
        "colab_type": "code",
        "colab": {
          "base_uri": "https://localhost:8080/",
          "height": 68
        },
        "outputId": "19708cde-4102-41b4-8091-2d7a310ac08d"
      },
      "source": [
        "from keras.preprocessing import sequence\n",
        "\n",
        "print('Pad sequences (samples x time)')\n",
        "x_train = sequence.pad_sequences(x_train, maxlen=maxlen)\n",
        "x_test = sequence.pad_sequences(x_test, maxlen=maxlen)\n",
        "print('x_train shape:', x_train.shape)\n",
        "print('x_test shape:', x_test.shape)"
      ],
      "execution_count": 14,
      "outputs": [
        {
          "output_type": "stream",
          "text": [
            "Pad sequences (samples x time)\n",
            "x_train shape: (25000, 128)\n",
            "x_test shape: (25000, 128)\n"
          ],
          "name": "stdout"
        }
      ]
    },
    {
      "cell_type": "code",
      "metadata": {
        "id": "OLdyl1OLfM7p",
        "colab_type": "code",
        "colab": {}
      },
      "source": [
        "from keras.models import Sequential\n",
        "from keras.layers import Dense, Embedding, LSTM\n",
        "from keras.regularizers import l2,l1_l2\n"
      ],
      "execution_count": 0,
      "outputs": []
    },
    {
      "cell_type": "code",
      "metadata": {
        "id": "_Lvv_OIpfNCL",
        "colab_type": "code",
        "colab": {
          "base_uri": "https://localhost:8080/",
          "height": 34
        },
        "outputId": "96c168a5-4c14-4e21-eb2d-9ded82614d6d"
      },
      "source": [
        "print('Build model...')\n",
        "model = Sequential()\n",
        "model.add(Embedding(max_features, 128))\n",
        "model.add(LSTM(128, dropout=0.5, recurrent_dropout=0.5,\n",
        "    kernel_regularizer=l1_l2(l1=1e-5, l2=1e-4),\n",
        "    recurrent_regularizer=l2(1e-4),\n",
        "    bias_regularizer=l2(1e-4),\n",
        "    activity_regularizer=l2(1e-5),\n",
        "    return_sequences=True))\n",
        "model.add(LSTM(32, dropout=0.3, recurrent_dropout=0.3,\n",
        "    kernel_regularizer=l1_l2(l1=1e-5, l2=1e-4),\n",
        "    recurrent_regularizer=l2(1e-4),\n",
        "    bias_regularizer=l2(1e-4),\n",
        "    activity_regularizer=l2(1e-5)))\n",
        "model.add(Dense(1, activation='sigmoid'))\n",
        "\n"
      ],
      "execution_count": 16,
      "outputs": [
        {
          "output_type": "stream",
          "text": [
            "Build model...\n"
          ],
          "name": "stdout"
        }
      ]
    },
    {
      "cell_type": "code",
      "metadata": {
        "id": "OXixL6u6fNYW",
        "colab_type": "code",
        "colab": {}
      },
      "source": [
        "# try using different optimizers and different optimizer configs\n",
        "model.compile(loss='binary_crossentropy',\n",
        "              optimizer='adam',\n",
        "              metrics=['accuracy'])\n"
      ],
      "execution_count": 0,
      "outputs": []
    },
    {
      "cell_type": "code",
      "metadata": {
        "id": "LLLJhq8xgMPL",
        "colab_type": "code",
        "colab": {
          "base_uri": "https://localhost:8080/",
          "height": 289
        },
        "outputId": "329d9f35-7481-4778-baa1-91108d1b33ad"
      },
      "source": [
        "model.summary()"
      ],
      "execution_count": 18,
      "outputs": [
        {
          "output_type": "stream",
          "text": [
            "Model: \"sequential_4\"\n",
            "_________________________________________________________________\n",
            "Layer (type)                 Output Shape              Param #   \n",
            "=================================================================\n",
            "embedding_4 (Embedding)      (None, None, 128)         3200000   \n",
            "_________________________________________________________________\n",
            "lstm_7 (LSTM)                (None, None, 128)         131584    \n",
            "_________________________________________________________________\n",
            "lstm_8 (LSTM)                (None, 32)                20608     \n",
            "_________________________________________________________________\n",
            "dense_2 (Dense)              (None, 1)                 33        \n",
            "=================================================================\n",
            "Total params: 3,352,225\n",
            "Trainable params: 3,352,225\n",
            "Non-trainable params: 0\n",
            "_________________________________________________________________\n"
          ],
          "name": "stdout"
        }
      ]
    },
    {
      "cell_type": "code",
      "metadata": {
        "id": "H8v0HJwafNXU",
        "colab_type": "code",
        "colab": {
          "base_uri": "https://localhost:8080/",
          "height": 632
        },
        "outputId": "41b2c4a2-317a-4803-e213-0b1da00ec5f4"
      },
      "source": [
        "print('Train...')\n",
        "model.fit(x_train, y_train,\n",
        "          batch_size=batch_size,\n",
        "          epochs=15,\n",
        "          validation_data=(x_test, y_test))\n"
      ],
      "execution_count": 19,
      "outputs": [
        {
          "output_type": "stream",
          "text": [
            "Train...\n"
          ],
          "name": "stdout"
        },
        {
          "output_type": "stream",
          "text": [
            "/usr/local/lib/python3.6/dist-packages/tensorflow/python/framework/indexed_slices.py:434: UserWarning: Converting sparse IndexedSlices to a dense Tensor of unknown shape. This may consume a large amount of memory.\n",
            "  \"Converting sparse IndexedSlices to a dense Tensor of unknown shape. \"\n"
          ],
          "name": "stderr"
        },
        {
          "output_type": "stream",
          "text": [
            "Train on 25000 samples, validate on 25000 samples\n",
            "Epoch 1/15\n",
            "25000/25000 [==============================] - 647s 26ms/step - loss: 0.5569 - accuracy: 0.7538 - val_loss: 0.4416 - val_accuracy: 0.8318\n",
            "Epoch 2/15\n",
            "25000/25000 [==============================] - 653s 26ms/step - loss: 0.4086 - accuracy: 0.8520 - val_loss: 0.4727 - val_accuracy: 0.8147\n",
            "Epoch 3/15\n",
            "25000/25000 [==============================] - 646s 26ms/step - loss: 0.3511 - accuracy: 0.8804 - val_loss: 0.4797 - val_accuracy: 0.8155\n",
            "Epoch 4/15\n",
            "25000/25000 [==============================] - 655s 26ms/step - loss: 0.3125 - accuracy: 0.8983 - val_loss: 0.4606 - val_accuracy: 0.8318\n",
            "Epoch 5/15\n",
            "25000/25000 [==============================] - 650s 26ms/step - loss: 0.2682 - accuracy: 0.9160 - val_loss: 0.4811 - val_accuracy: 0.8034\n",
            "Epoch 6/15\n",
            "25000/25000 [==============================] - 640s 26ms/step - loss: 0.2808 - accuracy: 0.9152 - val_loss: 0.4925 - val_accuracy: 0.8302\n",
            "Epoch 7/15\n",
            "25000/25000 [==============================] - 638s 26ms/step - loss: 0.2282 - accuracy: 0.9376 - val_loss: 0.5248 - val_accuracy: 0.8274\n",
            "Epoch 8/15\n",
            "25000/25000 [==============================] - 634s 25ms/step - loss: 0.1913 - accuracy: 0.9500 - val_loss: 0.5528 - val_accuracy: 0.8226\n",
            "Epoch 9/15\n",
            "25000/25000 [==============================] - 639s 26ms/step - loss: 0.1946 - accuracy: 0.9483 - val_loss: 0.5400 - val_accuracy: 0.8228\n",
            "Epoch 10/15\n",
            "25000/25000 [==============================] - 651s 26ms/step - loss: 0.1706 - accuracy: 0.9598 - val_loss: 0.5504 - val_accuracy: 0.8290\n",
            "Epoch 11/15\n",
            "25000/25000 [==============================] - 667s 27ms/step - loss: 0.1345 - accuracy: 0.9714 - val_loss: 0.5901 - val_accuracy: 0.8306\n",
            "Epoch 12/15\n",
            "25000/25000 [==============================] - 671s 27ms/step - loss: 0.1231 - accuracy: 0.9739 - val_loss: 0.5745 - val_accuracy: 0.8302\n",
            "Epoch 13/15\n",
            "25000/25000 [==============================] - 660s 26ms/step - loss: 0.1082 - accuracy: 0.9784 - val_loss: 0.7084 - val_accuracy: 0.8079\n",
            "Epoch 14/15\n",
            "25000/25000 [==============================] - 667s 27ms/step - loss: 0.1019 - accuracy: 0.9797 - val_loss: 0.6196 - val_accuracy: 0.8298\n",
            "Epoch 15/15\n",
            "25000/25000 [==============================] - 671s 27ms/step - loss: 0.0848 - accuracy: 0.9841 - val_loss: 0.6858 - val_accuracy: 0.8260\n"
          ],
          "name": "stdout"
        },
        {
          "output_type": "execute_result",
          "data": {
            "text/plain": [
              "<keras.callbacks.callbacks.History at 0x7f9c86041f28>"
            ]
          },
          "metadata": {
            "tags": []
          },
          "execution_count": 19
        }
      ]
    },
    {
      "cell_type": "code",
      "metadata": {
        "id": "UIUgBVCxfNWY",
        "colab_type": "code",
        "colab": {
          "base_uri": "https://localhost:8080/",
          "height": 68
        },
        "outputId": "9fcfacb2-9c7f-4fbf-bbc6-f02942ccddd0"
      },
      "source": [
        "score, acc = model.evaluate(x_test, y_test,\n",
        "                            batch_size=batch_size)\n",
        "print('Test score:', score)\n",
        "print('Test accuracy:', acc)"
      ],
      "execution_count": 20,
      "outputs": [
        {
          "output_type": "stream",
          "text": [
            "25000/25000 [==============================] - 43s 2ms/step\n",
            "Test score: 0.68584821144104\n",
            "Test accuracy: 0.8260400295257568\n"
          ],
          "name": "stdout"
        }
      ]
    },
    {
      "cell_type": "code",
      "metadata": {
        "id": "sXKAdNc_fNIC",
        "colab_type": "code",
        "colab": {}
      },
      "source": [
        ""
      ],
      "execution_count": 0,
      "outputs": []
    }
  ]
}