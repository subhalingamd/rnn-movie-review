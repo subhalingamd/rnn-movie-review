{
  "nbformat": 4,
  "nbformat_minor": 0,
  "metadata": {
    "colab": {
      "name": "[HEAD] Copy of Copy of movie-rev.ipynb",
      "provenance": [],
      "authorship_tag": "ABX9TyNaI2GWFQjO07uvZH+t38rw"
    },
    "kernelspec": {
      "name": "python3",
      "display_name": "Python 3"
    },
    "accelerator": "TPU"
  },
  "cells": [
    {
      "cell_type": "code",
      "metadata": {
        "id": "0ha6vDBPYEzu",
        "colab_type": "code",
        "colab": {}
      },
      "source": [
        "from __future__ import print_function"
      ],
      "execution_count": 0,
      "outputs": []
    },
    {
      "cell_type": "code",
      "metadata": {
        "id": "TJcJCEoDfat2",
        "colab_type": "code",
        "colab": {}
      },
      "source": [
        "max_features = 12500\n",
        "\n",
        "# cut texts after this number of words (among top max_features most common words)\n",
        "maxlen = 128\n",
        "batch_size = 32"
      ],
      "execution_count": 0,
      "outputs": []
    },
    {
      "cell_type": "code",
      "metadata": {
        "id": "yoUssS2OfMLQ",
        "colab_type": "code",
        "outputId": "56f29c91-0369-436a-986c-031b4eaab268",
        "colab": {
          "base_uri": "https://localhost:8080/",
          "height": 85
        }
      },
      "source": [
        "from keras.datasets import imdb\n",
        "\n",
        "print('Loading data...')\n",
        "(x_train, y_train), (x_test, y_test) = imdb.load_data(num_words=max_features)\n",
        "print(len(x_train), 'train sequences')\n",
        "print(len(x_test), 'test sequences')"
      ],
      "execution_count": 3,
      "outputs": [
        {
          "output_type": "stream",
          "text": [
            "Using TensorFlow backend.\n"
          ],
          "name": "stderr"
        },
        {
          "output_type": "stream",
          "text": [
            "Loading data...\n",
            "25000 train sequences\n",
            "25000 test sequences\n"
          ],
          "name": "stdout"
        }
      ]
    },
    {
      "cell_type": "code",
      "metadata": {
        "id": "CxnJib5Yf34E",
        "colab_type": "code",
        "outputId": "74be9a36-34f2-4386-e86a-7fbd15b3a5ad",
        "colab": {
          "base_uri": "https://localhost:8080/",
          "height": 68
        }
      },
      "source": [
        "from keras.preprocessing import sequence\n",
        "\n",
        "print('Pad sequences (samples x time)')\n",
        "x_train = sequence.pad_sequences(x_train, maxlen=maxlen,padding='post')\n",
        "x_test = sequence.pad_sequences(x_test, maxlen=maxlen,padding='post')\n",
        "print('x_train shape:', x_train.shape)\n",
        "print('x_test shape:', x_test.shape)"
      ],
      "execution_count": 4,
      "outputs": [
        {
          "output_type": "stream",
          "text": [
            "Pad sequences (samples x time)\n",
            "x_train shape: (25000, 128)\n",
            "x_test shape: (25000, 128)\n"
          ],
          "name": "stdout"
        }
      ]
    },
    {
      "cell_type": "code",
      "metadata": {
        "id": "OLdyl1OLfM7p",
        "colab_type": "code",
        "colab": {}
      },
      "source": [
        "from keras.models import Sequential\n",
        "from keras.layers import Dense, Embedding, LSTM\n",
        "from keras.regularizers import l2,l1_l2\n"
      ],
      "execution_count": 0,
      "outputs": []
    },
    {
      "cell_type": "code",
      "metadata": {
        "id": "_Lvv_OIpfNCL",
        "colab_type": "code",
        "outputId": "1a0c4018-64af-4f21-ce5a-6257daf4a880",
        "colab": {
          "base_uri": "https://localhost:8080/",
          "height": 34
        }
      },
      "source": [
        "print('Build model...')\n",
        "model = Sequential()\n",
        "model.add(Embedding(max_features, 128))\n",
        "model.add(LSTM(128, dropout=0.5, recurrent_dropout=0.5,\n",
        "    kernel_regularizer=l1_l2(l1=1e-5, l2=1e-4),\n",
        "    recurrent_regularizer=l2(1e-4),\n",
        "    bias_regularizer=l2(1e-4),\n",
        "    activity_regularizer=l2(1e-5),\n",
        "    return_sequences=True))\n",
        "model.add(LSTM(32, dropout=0.3, recurrent_dropout=0.3,\n",
        "    kernel_regularizer=l1_l2(l1=1e-5, l2=1e-4),\n",
        "    recurrent_regularizer=l2(1e-4),\n",
        "    bias_regularizer=l2(1e-4),\n",
        "    activity_regularizer=l2(1e-5)))\n",
        "model.add(Dense(1, activation='sigmoid'))\n",
        "\n"
      ],
      "execution_count": 6,
      "outputs": [
        {
          "output_type": "stream",
          "text": [
            "Build model...\n"
          ],
          "name": "stdout"
        }
      ]
    },
    {
      "cell_type": "code",
      "metadata": {
        "id": "OXixL6u6fNYW",
        "colab_type": "code",
        "colab": {}
      },
      "source": [
        "# try using different optimizers and different optimizer configs\n",
        "model.compile(loss='binary_crossentropy',\n",
        "              optimizer='adam',\n",
        "              metrics=['accuracy'])\n"
      ],
      "execution_count": 0,
      "outputs": []
    },
    {
      "cell_type": "code",
      "metadata": {
        "id": "LLLJhq8xgMPL",
        "colab_type": "code",
        "outputId": "1260bf4a-f6d3-4728-8a5a-a47005ab21f2",
        "colab": {
          "base_uri": "https://localhost:8080/",
          "height": 289
        }
      },
      "source": [
        "model.summary()"
      ],
      "execution_count": 8,
      "outputs": [
        {
          "output_type": "stream",
          "text": [
            "Model: \"sequential_1\"\n",
            "_________________________________________________________________\n",
            "Layer (type)                 Output Shape              Param #   \n",
            "=================================================================\n",
            "embedding_1 (Embedding)      (None, None, 128)         1600000   \n",
            "_________________________________________________________________\n",
            "lstm_1 (LSTM)                (None, None, 128)         131584    \n",
            "_________________________________________________________________\n",
            "lstm_2 (LSTM)                (None, 32)                20608     \n",
            "_________________________________________________________________\n",
            "dense_1 (Dense)              (None, 1)                 33        \n",
            "=================================================================\n",
            "Total params: 1,752,225\n",
            "Trainable params: 1,752,225\n",
            "Non-trainable params: 0\n",
            "_________________________________________________________________\n"
          ],
          "name": "stdout"
        }
      ]
    },
    {
      "cell_type": "code",
      "metadata": {
        "id": "H8v0HJwafNXU",
        "colab_type": "code",
        "outputId": "32fb0735-992f-4012-9cc2-7fa0b38141d6",
        "colab": {
          "base_uri": "https://localhost:8080/",
          "height": 632
        }
      },
      "source": [
        "print('Train...')\n",
        "model.fit(x_train, y_train,\n",
        "          batch_size=batch_size,\n",
        "          epochs=15,\n",
        "          validation_data=(x_test, y_test))\n"
      ],
      "execution_count": 9,
      "outputs": [
        {
          "output_type": "stream",
          "text": [
            "Train...\n"
          ],
          "name": "stdout"
        },
        {
          "output_type": "stream",
          "text": [
            "/usr/local/lib/python3.6/dist-packages/tensorflow/python/framework/indexed_slices.py:434: UserWarning: Converting sparse IndexedSlices to a dense Tensor of unknown shape. This may consume a large amount of memory.\n",
            "  \"Converting sparse IndexedSlices to a dense Tensor of unknown shape. \"\n"
          ],
          "name": "stderr"
        },
        {
          "output_type": "stream",
          "text": [
            "Train on 25000 samples, validate on 25000 samples\n",
            "Epoch 1/15\n",
            "25000/25000 [==============================] - 253s 10ms/step - loss: 0.6114 - accuracy: 0.7148 - val_loss: 0.4969 - val_accuracy: 0.8114\n",
            "Epoch 2/15\n",
            "25000/25000 [==============================] - 265s 11ms/step - loss: 0.5115 - accuracy: 0.8024 - val_loss: 0.4802 - val_accuracy: 0.8230\n",
            "Epoch 3/15\n",
            "25000/25000 [==============================] - 264s 11ms/step - loss: 0.4890 - accuracy: 0.8208 - val_loss: 0.4892 - val_accuracy: 0.8166\n",
            "Epoch 4/15\n",
            "25000/25000 [==============================] - 265s 11ms/step - loss: 0.4340 - accuracy: 0.8535 - val_loss: 0.4895 - val_accuracy: 0.8308\n",
            "Epoch 5/15\n",
            "25000/25000 [==============================] - 259s 10ms/step - loss: 0.3777 - accuracy: 0.8809 - val_loss: 0.4303 - val_accuracy: 0.8554\n",
            "Epoch 6/15\n",
            "25000/25000 [==============================] - 265s 11ms/step - loss: 0.2936 - accuracy: 0.9177 - val_loss: 0.4038 - val_accuracy: 0.8593\n",
            "Epoch 7/15\n",
            "25000/25000 [==============================] - 263s 11ms/step - loss: 0.2447 - accuracy: 0.9344 - val_loss: 0.4106 - val_accuracy: 0.8574\n",
            "Epoch 8/15\n",
            "25000/25000 [==============================] - 261s 10ms/step - loss: 0.2121 - accuracy: 0.9447 - val_loss: 0.4356 - val_accuracy: 0.8534\n",
            "Epoch 9/15\n",
            "25000/25000 [==============================] - 264s 11ms/step - loss: 0.1823 - accuracy: 0.9577 - val_loss: 0.4693 - val_accuracy: 0.8501\n",
            "Epoch 10/15\n",
            "25000/25000 [==============================] - 265s 11ms/step - loss: 0.1592 - accuracy: 0.9639 - val_loss: 0.5083 - val_accuracy: 0.8502\n",
            "Epoch 11/15\n",
            "25000/25000 [==============================] - 261s 10ms/step - loss: 0.1405 - accuracy: 0.9695 - val_loss: 0.5361 - val_accuracy: 0.8458\n",
            "Epoch 12/15\n",
            "25000/25000 [==============================] - 259s 10ms/step - loss: 0.1270 - accuracy: 0.9753 - val_loss: 0.5731 - val_accuracy: 0.8448\n",
            "Epoch 13/15\n",
            "25000/25000 [==============================] - 265s 11ms/step - loss: 0.1134 - accuracy: 0.9782 - val_loss: 0.5524 - val_accuracy: 0.8431\n",
            "Epoch 14/15\n",
            "25000/25000 [==============================] - 263s 11ms/step - loss: 0.1060 - accuracy: 0.9802 - val_loss: 0.5936 - val_accuracy: 0.8422\n",
            "Epoch 15/15\n",
            "25000/25000 [==============================] - 264s 11ms/step - loss: 0.0982 - accuracy: 0.9829 - val_loss: 0.6235 - val_accuracy: 0.8425\n"
          ],
          "name": "stdout"
        },
        {
          "output_type": "execute_result",
          "data": {
            "text/plain": [
              "<keras.callbacks.callbacks.History at 0x7fd2c595f160>"
            ]
          },
          "metadata": {
            "tags": []
          },
          "execution_count": 9
        }
      ]
    },
    {
      "cell_type": "code",
      "metadata": {
        "id": "UIUgBVCxfNWY",
        "colab_type": "code",
        "colab": {
          "base_uri": "https://localhost:8080/",
          "height": 68
        },
        "outputId": "4604265a-48c1-42c0-bca0-d67b76850fd0"
      },
      "source": [
        "score, acc = model.evaluate(x_test, y_test,\n",
        "                            batch_size=batch_size)\n",
        "print('Test score:', score)\n",
        "print('Test accuracy:', acc)"
      ],
      "execution_count": 10,
      "outputs": [
        {
          "output_type": "stream",
          "text": [
            "25000/25000 [==============================] - 43s 2ms/step\n",
            "Test score: 0.6235083810043335\n",
            "Test accuracy: 0.842519998550415\n"
          ],
          "name": "stdout"
        }
      ]
    },
    {
      "cell_type": "code",
      "metadata": {
        "id": "sXKAdNc_fNIC",
        "colab_type": "code",
        "colab": {}
      },
      "source": [
        "model.save('20-05-17-2100.h5')"
      ],
      "execution_count": 0,
      "outputs": []
    },
    {
      "cell_type": "code",
      "metadata": {
        "id": "XqjXCTrGQPKC",
        "colab_type": "code",
        "colab": {}
      },
      "source": [
        ""
      ],
      "execution_count": 0,
      "outputs": []
    }
  ]
}