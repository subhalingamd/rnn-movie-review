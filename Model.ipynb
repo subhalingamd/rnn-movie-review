{
  "nbformat": 4,
  "nbformat_minor": 0,
  "metadata": {
    "colab": {
      "name": "[HEAD]_Copy_of_Copy_of_movie_rev.ipynb",
      "provenance": []
    },
    "kernelspec": {
      "name": "python3",
      "display_name": "Python 3"
    },
    "accelerator": "TPU"
  },
  "cells": [
    {
      "cell_type": "code",
      "metadata": {
        "id": "0ha6vDBPYEzu",
        "colab_type": "code",
        "colab": {}
      },
      "source": [
        "from __future__ import print_function"
      ],
      "execution_count": 0,
      "outputs": []
    },
    {
      "cell_type": "code",
      "metadata": {
        "id": "TJcJCEoDfat2",
        "colab_type": "code",
        "colab": {}
      },
      "source": [
        "max_features = 15000\n",
        "\n",
        "# cut texts after this number of words (among top max_features most common words)\n",
        "maxlen = 100\n",
        "batch_size = 32"
      ],
      "execution_count": 0,
      "outputs": []
    },
    {
      "cell_type": "code",
      "metadata": {
        "id": "yoUssS2OfMLQ",
        "colab_type": "code",
        "outputId": "a22f9f1a-daf4-4c41-8007-91e4e9cec11f",
        "colab": {
          "base_uri": "https://localhost:8080/",
          "height": 119
        }
      },
      "source": [
        "from keras.datasets import imdb\n",
        "\n",
        "print('Loading data...')\n",
        "(x_train, y_train), (x_test, y_test) = imdb.load_data(num_words=max_features)\n",
        "print(len(x_train), 'train sequences')\n",
        "print(len(x_test), 'test sequences')"
      ],
      "execution_count": 3,
      "outputs": [
        {
          "output_type": "stream",
          "text": [
            "Using TensorFlow backend.\n"
          ],
          "name": "stderr"
        },
        {
          "output_type": "stream",
          "text": [
            "Loading data...\n",
            "Downloading data from https://s3.amazonaws.com/text-datasets/imdb.npz\n",
            "17465344/17464789 [==============================] - 0s 0us/step\n",
            "25000 train sequences\n",
            "25000 test sequences\n"
          ],
          "name": "stdout"
        }
      ]
    },
    {
      "cell_type": "code",
      "metadata": {
        "id": "CxnJib5Yf34E",
        "colab_type": "code",
        "outputId": "3f836bbf-57df-47ae-c2db-dd178f5517c9",
        "colab": {
          "base_uri": "https://localhost:8080/",
          "height": 68
        }
      },
      "source": [
        "from keras.preprocessing import sequence\n",
        "\n",
        "print('Pad sequences (samples x time)')\n",
        "x_train = sequence.pad_sequences(x_train, maxlen=maxlen,padding='post')\n",
        "x_test = sequence.pad_sequences(x_test, maxlen=maxlen,padding='post')\n",
        "print('x_train shape:', x_train.shape)\n",
        "print('x_test shape:', x_test.shape)"
      ],
      "execution_count": 4,
      "outputs": [
        {
          "output_type": "stream",
          "text": [
            "Pad sequences (samples x time)\n",
            "x_train shape: (25000, 100)\n",
            "x_test shape: (25000, 100)\n"
          ],
          "name": "stdout"
        }
      ]
    },
    {
      "cell_type": "code",
      "metadata": {
        "id": "OLdyl1OLfM7p",
        "colab_type": "code",
        "colab": {}
      },
      "source": [
        "from keras.models import Sequential\n",
        "from keras.layers import Dense, Embedding, LSTM, Reshape, Conv1D, MaxPooling1D, GlobalMaxPooling1D, Flatten\n",
        "from keras.regularizers import l2,l1_l2\n"
      ],
      "execution_count": 0,
      "outputs": []
    },
    {
      "cell_type": "code",
      "metadata": {
        "id": "_Lvv_OIpfNCL",
        "colab_type": "code",
        "colab": {
          "base_uri": "https://localhost:8080/",
          "height": 34
        },
        "outputId": "e8f681fe-0970-4076-e4f3-588c085e8eb8"
      },
      "source": [
        "print('Build model...')\n",
        "model = Sequential()\n",
        "model.add(Embedding(max_features, 128))\n",
        "'''\n",
        "#model.add(LSTM(128, dropout=0.5, recurrent_dropout=0.55,\n",
        "    kernel_regularizer=l1_l2(l1=1e-4, l2=1e-3),\n",
        "    recurrent_regularizer=l2(5e-3),\n",
        "    bias_regularizer=l2(1e-3),\n",
        "    activity_regularizer=l2(1e-4),\n",
        "    return_sequences=True))\n",
        "#model.add(LSTM(64, dropout=0.3, recurrent_dropout=0.4,\n",
        "    kernel_regularizer=l1_l2(l1=1e-3, l2=5e-3),\n",
        "    recurrent_regularizer=l2(1e-2),\n",
        "    bias_regularizer=l2(5e-3),\n",
        "    activity_regularizer=l2(1e-3)))\n",
        "#model.add(Reshape((64,1)))\n",
        "model.add(Conv1D(128,5,padding=\"valid\",activation=\"relu\"))\n",
        "model.add(Conv1D(128,5,padding=\"valid\",activation=\"relu\"))\n",
        "model.add(MaxPooling1D(2))\n",
        "model.add(Conv1D(256,5,padding=\"valid\",activation=\"relu\"))\n",
        "model.add(GlobalMaxPooling1D())\n",
        "model.add(Dense(128,activation='linear'))\n",
        "model.add(Dense(1, activation='sigmoid'))"
      ],
      "execution_count": 18,
      "outputs": [
        {
          "output_type": "stream",
          "text": [
            "Build model...\n"
          ],
          "name": "stdout"
        }
      ]
    },
    {
      "cell_type": "code",
      "metadata": {
        "id": "OXixL6u6fNYW",
        "colab_type": "code",
        "colab": {}
      },
      "source": [
        "# try using different optimizers and different optimizer configs\n",
        "model.compile(loss='binary_crossentropy',\n",
        "              optimizer='adam',\n",
        "              metrics=['accuracy'])\n"
      ],
      "execution_count": 0,
      "outputs": []
    },
    {
      "cell_type": "code",
      "metadata": {
        "id": "LLLJhq8xgMPL",
        "colab_type": "code",
        "colab": {
          "base_uri": "https://localhost:8080/",
          "height": 425
        },
        "outputId": "84ec31a2-8674-4a3c-aefd-508218bc7095"
      },
      "source": [
        "model.summary()"
      ],
      "execution_count": 20,
      "outputs": [
        {
          "output_type": "stream",
          "text": [
            "Model: \"sequential_3\"\n",
            "_________________________________________________________________\n",
            "Layer (type)                 Output Shape              Param #   \n",
            "=================================================================\n",
            "embedding_3 (Embedding)      (None, None, 128)         1920000   \n",
            "_________________________________________________________________\n",
            "conv1d_5 (Conv1D)            (None, None, 128)         82048     \n",
            "_________________________________________________________________\n",
            "conv1d_6 (Conv1D)            (None, None, 128)         82048     \n",
            "_________________________________________________________________\n",
            "max_pooling1d_2 (MaxPooling1 (None, None, 128)         0         \n",
            "_________________________________________________________________\n",
            "conv1d_7 (Conv1D)            (None, None, 256)         164096    \n",
            "_________________________________________________________________\n",
            "global_max_pooling1d_2 (Glob (None, 256)               0         \n",
            "_________________________________________________________________\n",
            "dense_3 (Dense)              (None, 128)               32896     \n",
            "_________________________________________________________________\n",
            "dense_4 (Dense)              (None, 1)                 129       \n",
            "=================================================================\n",
            "Total params: 2,281,217\n",
            "Trainable params: 2,281,217\n",
            "Non-trainable params: 0\n",
            "_________________________________________________________________\n"
          ],
          "name": "stdout"
        }
      ]
    },
    {
      "cell_type": "code",
      "metadata": {
        "id": "H8v0HJwafNXU",
        "colab_type": "code",
        "colab": {
          "base_uri": "https://localhost:8080/",
          "height": 632
        },
        "outputId": "a51ddab6-2a6d-4b82-817e-8dc38168244d"
      },
      "source": [
        "print('Train...')\n",
        "model.fit(x_train, y_train,\n",
        "          batch_size=batch_size,\n",
        "          epochs=15,\n",
        "          validation_data=(x_test, y_test))\n"
      ],
      "execution_count": 21,
      "outputs": [
        {
          "output_type": "stream",
          "text": [
            "Train...\n"
          ],
          "name": "stdout"
        },
        {
          "output_type": "stream",
          "text": [
            "/usr/local/lib/python3.6/dist-packages/tensorflow/python/framework/indexed_slices.py:434: UserWarning: Converting sparse IndexedSlices to a dense Tensor of unknown shape. This may consume a large amount of memory.\n",
            "  \"Converting sparse IndexedSlices to a dense Tensor of unknown shape. \"\n"
          ],
          "name": "stderr"
        },
        {
          "output_type": "stream",
          "text": [
            "Train on 25000 samples, validate on 25000 samples\n",
            "Epoch 1/15\n",
            "25000/25000 [==============================] - 136s 5ms/step - loss: 0.4961 - accuracy: 0.7313 - val_loss: 0.3692 - val_accuracy: 0.8333\n",
            "Epoch 2/15\n",
            "25000/25000 [==============================] - 136s 5ms/step - loss: 0.2628 - accuracy: 0.8945 - val_loss: 0.3676 - val_accuracy: 0.8411\n",
            "Epoch 3/15\n",
            "25000/25000 [==============================] - 136s 5ms/step - loss: 0.1317 - accuracy: 0.9511 - val_loss: 0.4557 - val_accuracy: 0.8338\n",
            "Epoch 4/15\n",
            "25000/25000 [==============================] - 136s 5ms/step - loss: 0.0597 - accuracy: 0.9796 - val_loss: 0.6744 - val_accuracy: 0.8152\n",
            "Epoch 5/15\n",
            "25000/25000 [==============================] - 137s 5ms/step - loss: 0.0345 - accuracy: 0.9878 - val_loss: 0.8412 - val_accuracy: 0.8210\n",
            "Epoch 6/15\n",
            "25000/25000 [==============================] - 136s 5ms/step - loss: 0.0248 - accuracy: 0.9911 - val_loss: 1.1508 - val_accuracy: 0.7918\n",
            "Epoch 7/15\n",
            "25000/25000 [==============================] - 136s 5ms/step - loss: 0.0205 - accuracy: 0.9936 - val_loss: 1.0018 - val_accuracy: 0.8232\n",
            "Epoch 8/15\n",
            "25000/25000 [==============================] - 136s 5ms/step - loss: 0.0147 - accuracy: 0.9948 - val_loss: 1.2122 - val_accuracy: 0.8042\n",
            "Epoch 9/15\n",
            "25000/25000 [==============================] - 136s 5ms/step - loss: 0.0131 - accuracy: 0.9957 - val_loss: 1.1433 - val_accuracy: 0.8193\n",
            "Epoch 10/15\n",
            "25000/25000 [==============================] - 136s 5ms/step - loss: 0.0117 - accuracy: 0.9954 - val_loss: 1.1679 - val_accuracy: 0.8213\n",
            "Epoch 11/15\n",
            "25000/25000 [==============================] - 137s 5ms/step - loss: 0.0128 - accuracy: 0.9955 - val_loss: 1.0043 - val_accuracy: 0.8204\n",
            "Epoch 12/15\n",
            "25000/25000 [==============================] - 136s 5ms/step - loss: 0.0123 - accuracy: 0.9957 - val_loss: 1.1737 - val_accuracy: 0.8186\n",
            "Epoch 13/15\n",
            "25000/25000 [==============================] - 136s 5ms/step - loss: 0.0059 - accuracy: 0.9982 - val_loss: 1.5821 - val_accuracy: 0.8182\n",
            "Epoch 14/15\n",
            "25000/25000 [==============================] - 136s 5ms/step - loss: 0.0091 - accuracy: 0.9967 - val_loss: 1.6255 - val_accuracy: 0.8106\n",
            "Epoch 15/15\n",
            "25000/25000 [==============================] - 136s 5ms/step - loss: 0.0085 - accuracy: 0.9971 - val_loss: 1.5352 - val_accuracy: 0.8162\n"
          ],
          "name": "stdout"
        },
        {
          "output_type": "execute_result",
          "data": {
            "text/plain": [
              "<keras.callbacks.callbacks.History at 0x7fad35075160>"
            ]
          },
          "metadata": {
            "tags": []
          },
          "execution_count": 21
        }
      ]
    },
    {
      "cell_type": "code",
      "metadata": {
        "id": "UIUgBVCxfNWY",
        "colab_type": "code",
        "colab": {}
      },
      "source": [
        "score, acc = model.evaluate(x_test, y_test,\n",
        "                            batch_size=batch_size)\n",
        "print('Test score:', score)\n",
        "print('Test accuracy:', acc)"
      ],
      "execution_count": 0,
      "outputs": []
    },
    {
      "cell_type": "code",
      "metadata": {
        "id": "XqjXCTrGQPKC",
        "colab_type": "code",
        "colab": {}
      },
      "source": [
        ""
      ],
      "execution_count": 0,
      "outputs": []
    },
    {
      "cell_type": "code",
      "metadata": {
        "id": "sXKAdNc_fNIC",
        "colab_type": "code",
        "colab": {}
      },
      "source": [
        "model.save('20-05-18-1000.h5')"
      ],
      "execution_count": 0,
      "outputs": []
    }
  ]
}